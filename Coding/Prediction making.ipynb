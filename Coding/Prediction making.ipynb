{
 "cells": [
  {
   "cell_type": "code",
   "execution_count": 11,
   "id": "1df2b396-fe0f-4db6-a279-3aa4f7c2830f",
   "metadata": {},
   "outputs": [],
   "source": [
    "import pandas as pd\n",
    "import joblib\n",
    "from sklearn.preprocessing import LabelEncoder"
   ]
  },
  {
   "cell_type": "code",
   "execution_count": 12,
   "id": "06ec8866-377e-4ecb-89fb-0ae94374cde7",
   "metadata": {},
   "outputs": [
    {
     "data": {
      "text/html": [
       "<div>\n",
       "<style scoped>\n",
       "    .dataframe tbody tr th:only-of-type {\n",
       "        vertical-align: middle;\n",
       "    }\n",
       "\n",
       "    .dataframe tbody tr th {\n",
       "        vertical-align: top;\n",
       "    }\n",
       "\n",
       "    .dataframe thead th {\n",
       "        text-align: right;\n",
       "    }\n",
       "</style>\n",
       "<table border=\"1\" class=\"dataframe\">\n",
       "  <thead>\n",
       "    <tr style=\"text-align: right;\">\n",
       "      <th></th>\n",
       "      <th>date</th>\n",
       "      <th>temp_c</th>\n",
       "      <th>pressure</th>\n",
       "      <th>light_lux</th>\n",
       "      <th>rain_rate</th>\n",
       "      <th>humidity</th>\n",
       "      <th>wind_speed</th>\n",
       "      <th>cloud_info</th>\n",
       "      <th>month</th>\n",
       "      <th>dayofweek</th>\n",
       "      <th>temp_c_lag1</th>\n",
       "      <th>pressure_lag1</th>\n",
       "      <th>light_lux_lag1</th>\n",
       "      <th>rain_rate_lag1</th>\n",
       "      <th>humidity_lag1</th>\n",
       "      <th>wind_speed_lag1</th>\n",
       "      <th>target_cloud</th>\n",
       "      <th>target_y</th>\n",
       "    </tr>\n",
       "  </thead>\n",
       "  <tbody>\n",
       "    <tr>\n",
       "      <th>0</th>\n",
       "      <td>2024-01-04</td>\n",
       "      <td>27.138309</td>\n",
       "      <td>1001.881221</td>\n",
       "      <td>7796.808824</td>\n",
       "      <td>0.687986</td>\n",
       "      <td>49.247500</td>\n",
       "      <td>0.047868</td>\n",
       "      <td>bright</td>\n",
       "      <td>1</td>\n",
       "      <td>3</td>\n",
       "      <td>25.384526</td>\n",
       "      <td>1010.497239</td>\n",
       "      <td>8104.968421</td>\n",
       "      <td>0.000000</td>\n",
       "      <td>60.474842</td>\n",
       "      <td>0.000000</td>\n",
       "      <td>dim</td>\n",
       "      <td>2</td>\n",
       "    </tr>\n",
       "    <tr>\n",
       "      <th>1</th>\n",
       "      <td>2024-01-05</td>\n",
       "      <td>29.333627</td>\n",
       "      <td>993.799930</td>\n",
       "      <td>13249.948187</td>\n",
       "      <td>0.804056</td>\n",
       "      <td>47.145440</td>\n",
       "      <td>0.093057</td>\n",
       "      <td>dim</td>\n",
       "      <td>1</td>\n",
       "      <td>4</td>\n",
       "      <td>27.138309</td>\n",
       "      <td>1001.881221</td>\n",
       "      <td>7796.808824</td>\n",
       "      <td>0.687986</td>\n",
       "      <td>49.247500</td>\n",
       "      <td>0.047868</td>\n",
       "      <td>dim</td>\n",
       "      <td>2</td>\n",
       "    </tr>\n",
       "    <tr>\n",
       "      <th>2</th>\n",
       "      <td>2024-01-06</td>\n",
       "      <td>26.443684</td>\n",
       "      <td>996.298658</td>\n",
       "      <td>12428.142857</td>\n",
       "      <td>0.000000</td>\n",
       "      <td>55.533759</td>\n",
       "      <td>0.002632</td>\n",
       "      <td>dim</td>\n",
       "      <td>1</td>\n",
       "      <td>5</td>\n",
       "      <td>29.333627</td>\n",
       "      <td>993.799930</td>\n",
       "      <td>13249.948187</td>\n",
       "      <td>0.804056</td>\n",
       "      <td>47.145440</td>\n",
       "      <td>0.093057</td>\n",
       "      <td>dim</td>\n",
       "      <td>2</td>\n",
       "    </tr>\n",
       "    <tr>\n",
       "      <th>3</th>\n",
       "      <td>2024-01-07</td>\n",
       "      <td>27.235630</td>\n",
       "      <td>998.820094</td>\n",
       "      <td>13279.992593</td>\n",
       "      <td>0.000000</td>\n",
       "      <td>56.539852</td>\n",
       "      <td>0.001778</td>\n",
       "      <td>dim</td>\n",
       "      <td>1</td>\n",
       "      <td>6</td>\n",
       "      <td>26.443684</td>\n",
       "      <td>996.298658</td>\n",
       "      <td>12428.142857</td>\n",
       "      <td>0.000000</td>\n",
       "      <td>55.533759</td>\n",
       "      <td>0.002632</td>\n",
       "      <td>bright</td>\n",
       "      <td>0</td>\n",
       "    </tr>\n",
       "    <tr>\n",
       "      <th>4</th>\n",
       "      <td>2024-01-08</td>\n",
       "      <td>26.250851</td>\n",
       "      <td>1001.936932</td>\n",
       "      <td>6690.542553</td>\n",
       "      <td>0.000000</td>\n",
       "      <td>49.797766</td>\n",
       "      <td>0.000000</td>\n",
       "      <td>bright</td>\n",
       "      <td>1</td>\n",
       "      <td>0</td>\n",
       "      <td>27.235630</td>\n",
       "      <td>998.820094</td>\n",
       "      <td>13279.992593</td>\n",
       "      <td>0.000000</td>\n",
       "      <td>56.539852</td>\n",
       "      <td>0.001778</td>\n",
       "      <td>dim</td>\n",
       "      <td>2</td>\n",
       "    </tr>\n",
       "  </tbody>\n",
       "</table>\n",
       "</div>"
      ],
      "text/plain": [
       "         date     temp_c     pressure     light_lux  rain_rate   humidity  \\\n",
       "0  2024-01-04  27.138309  1001.881221   7796.808824   0.687986  49.247500   \n",
       "1  2024-01-05  29.333627   993.799930  13249.948187   0.804056  47.145440   \n",
       "2  2024-01-06  26.443684   996.298658  12428.142857   0.000000  55.533759   \n",
       "3  2024-01-07  27.235630   998.820094  13279.992593   0.000000  56.539852   \n",
       "4  2024-01-08  26.250851  1001.936932   6690.542553   0.000000  49.797766   \n",
       "\n",
       "   wind_speed cloud_info  month  dayofweek  temp_c_lag1  pressure_lag1  \\\n",
       "0    0.047868     bright      1          3    25.384526    1010.497239   \n",
       "1    0.093057        dim      1          4    27.138309    1001.881221   \n",
       "2    0.002632        dim      1          5    29.333627     993.799930   \n",
       "3    0.001778        dim      1          6    26.443684     996.298658   \n",
       "4    0.000000     bright      1          0    27.235630     998.820094   \n",
       "\n",
       "   light_lux_lag1  rain_rate_lag1  humidity_lag1  wind_speed_lag1  \\\n",
       "0     8104.968421        0.000000      60.474842         0.000000   \n",
       "1     7796.808824        0.687986      49.247500         0.047868   \n",
       "2    13249.948187        0.804056      47.145440         0.093057   \n",
       "3    12428.142857        0.000000      55.533759         0.002632   \n",
       "4    13279.992593        0.000000      56.539852         0.001778   \n",
       "\n",
       "  target_cloud  target_y  \n",
       "0          dim         2  \n",
       "1          dim         2  \n",
       "2          dim         2  \n",
       "3       bright         0  \n",
       "4          dim         2  "
      ]
     },
     "execution_count": 12,
     "metadata": {},
     "output_type": "execute_result"
    }
   ],
   "source": [
    "df=pd.read_csv(r'D:\\Weaather Forecast\\Dataset\\daily_training_table.csv')\t\t\t\n",
    "df.head()"
   ]
  },
  {
   "cell_type": "code",
   "execution_count": 20,
   "id": "d9518ad2-e937-4d1f-baf2-df2888aab33c",
   "metadata": {},
   "outputs": [],
   "source": [
    "model = joblib.load(\"weather_model.pkl\")"
   ]
  },
  {
   "cell_type": "code",
   "execution_count": 21,
   "id": "4c54b558-437b-441c-9814-527da55972eb",
   "metadata": {},
   "outputs": [],
   "source": [
    "label_encoders = {}\n",
    "for col in df.select_dtypes(include=[\"object\"]).columns:\n",
    "    if col != \"date\":\n",
    "        le = LabelEncoder()\n",
    "        df[col] = le.fit_transform(df[col])\n",
    "        label_encoders[col] = le"
   ]
  },
  {
   "cell_type": "code",
   "execution_count": 22,
   "id": "07a395c5-dfa7-4fbf-8b38-3c7af9acf951",
   "metadata": {},
   "outputs": [],
   "source": [
    "feature_cols = [col for col in df.columns if col not in [\"date\", \"target_y\"]]"
   ]
  },
  {
   "cell_type": "code",
   "execution_count": 23,
   "id": "e10d0e3f-8f45-4fb8-9ad7-f52644a1fe61",
   "metadata": {},
   "outputs": [],
   "source": [
    "last_row = df.iloc[-1].copy()"
   ]
  },
  {
   "cell_type": "code",
   "execution_count": 24,
   "id": "6ee8b6b3-a8d8-4eb4-86c6-628e3944b84a",
   "metadata": {},
   "outputs": [],
   "source": [
    "predictions = []"
   ]
  },
  {
   "cell_type": "code",
   "execution_count": 25,
   "id": "07c7fa65-02dc-4343-8828-f933d1748e46",
   "metadata": {},
   "outputs": [
    {
     "name": "stderr",
     "output_type": "stream",
     "text": [
      "C:\\Users\\Jashwanth\\AppData\\Local\\Programs\\Python\\Python312\\Lib\\site-packages\\sklearn\\utils\\validation.py:2739: UserWarning: X does not have valid feature names, but RandomForestRegressor was fitted with feature names\n",
      "  warnings.warn(\n",
      "C:\\Users\\Jashwanth\\AppData\\Local\\Programs\\Python\\Python312\\Lib\\site-packages\\sklearn\\utils\\validation.py:2739: UserWarning: X does not have valid feature names, but RandomForestRegressor was fitted with feature names\n",
      "  warnings.warn(\n",
      "C:\\Users\\Jashwanth\\AppData\\Local\\Programs\\Python\\Python312\\Lib\\site-packages\\sklearn\\utils\\validation.py:2739: UserWarning: X does not have valid feature names, but RandomForestRegressor was fitted with feature names\n",
      "  warnings.warn(\n",
      "C:\\Users\\Jashwanth\\AppData\\Local\\Programs\\Python\\Python312\\Lib\\site-packages\\sklearn\\utils\\validation.py:2739: UserWarning: X does not have valid feature names, but RandomForestRegressor was fitted with feature names\n",
      "  warnings.warn(\n",
      "C:\\Users\\Jashwanth\\AppData\\Local\\Programs\\Python\\Python312\\Lib\\site-packages\\sklearn\\utils\\validation.py:2739: UserWarning: X does not have valid feature names, but RandomForestRegressor was fitted with feature names\n",
      "  warnings.warn(\n",
      "C:\\Users\\Jashwanth\\AppData\\Local\\Programs\\Python\\Python312\\Lib\\site-packages\\sklearn\\utils\\validation.py:2739: UserWarning: X does not have valid feature names, but RandomForestRegressor was fitted with feature names\n",
      "  warnings.warn(\n",
      "C:\\Users\\Jashwanth\\AppData\\Local\\Programs\\Python\\Python312\\Lib\\site-packages\\sklearn\\utils\\validation.py:2739: UserWarning: X does not have valid feature names, but RandomForestRegressor was fitted with feature names\n",
      "  warnings.warn(\n"
     ]
    }
   ],
   "source": [
    "for i in range(7):  # forecast 7 days\n",
    "    # Only training features (16 cols)\n",
    "    X_input = last_row[feature_cols].values.reshape(1, -1)\n",
    "\n",
    "    # Predict target_y\n",
    "    pred_y = model.predict(X_input)[0]\n",
    "\n",
    "    # Create new row\n",
    "    new_row = last_row.copy()\n",
    "    new_row[\"target_y\"] = pred_y\n",
    "\n",
    "    # Advance date\n",
    "    new_date = pd.to_datetime(last_row[\"date\"]) + pd.Timedelta(days=1)\n",
    "    new_row[\"date\"] = new_date.strftime(\"%Y-%m-%d\")\n",
    "\n",
    "    # Store prediction\n",
    "    predictions.append(new_row)\n",
    "\n",
    "    # Update for next loop\n",
    "    last_row = new_row"
   ]
  },
  {
   "cell_type": "code",
   "execution_count": 26,
   "id": "61817c43-92dd-4869-b08c-edd1f89607c2",
   "metadata": {},
   "outputs": [],
   "source": [
    "forecast_df = pd.DataFrame(predictions)\n",
    "forecast_df.to_csv(\"weekly_forecast.csv\", index=False)"
   ]
  },
  {
   "cell_type": "code",
   "execution_count": 27,
   "id": "ea4c911c-4d72-4fe6-813e-9a405a68e313",
   "metadata": {},
   "outputs": [
    {
     "name": "stdout",
     "output_type": "stream",
     "text": [
      "✅ Weekly forecast saved as weekly_forecast.csv\n"
     ]
    }
   ],
   "source": [
    "print(\"✅ Weekly forecast saved as weekly_forecast.csv\")"
   ]
  },
  {
   "cell_type": "code",
   "execution_count": null,
   "id": "e92b09fb-2a79-46df-9c22-540f5a138bda",
   "metadata": {},
   "outputs": [],
   "source": []
  }
 ],
 "metadata": {
  "kernelspec": {
   "display_name": "Python 3 (ipykernel)",
   "language": "python",
   "name": "python3"
  },
  "language_info": {
   "codemirror_mode": {
    "name": "ipython",
    "version": 3
   },
   "file_extension": ".py",
   "mimetype": "text/x-python",
   "name": "python",
   "nbconvert_exporter": "python",
   "pygments_lexer": "ipython3",
   "version": "3.12.4"
  }
 },
 "nbformat": 4,
 "nbformat_minor": 5
}
